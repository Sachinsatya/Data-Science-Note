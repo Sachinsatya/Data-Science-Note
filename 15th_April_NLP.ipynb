{
  "nbformat": 4,
  "nbformat_minor": 0,
  "metadata": {
    "colab": {
      "provenance": [],
      "include_colab_link": true
    },
    "kernelspec": {
      "name": "python3",
      "display_name": "Python 3"
    },
    "language_info": {
      "name": "python"
    }
  },
  "cells": [
    {
      "cell_type": "markdown",
      "metadata": {
        "id": "view-in-github",
        "colab_type": "text"
      },
      "source": [
        "<a href=\"https://colab.research.google.com/github/Sachinsatya/daily_dose-/blob/main/15th_April_NLP.ipynb\" target=\"_parent\"><img src=\"https://colab.research.google.com/assets/colab-badge.svg\" alt=\"Open In Colab\"/></a>"
      ]
    },
    {
      "cell_type": "code",
      "execution_count": null,
      "metadata": {
        "id": "AjEabyCxaF42"
      },
      "outputs": [],
      "source": [
        "# NLP - TEXT \n",
        "# Amazon Review - \"\"\"This is the worst product I have ever seen\"\"\" \n",
        "# Can we make a Text classifier to categorize this review in (+)ve Ve (-)ve feedback!"
      ]
    },
    {
      "cell_type": "code",
      "source": [
        "# NLTK      - Stanford \n",
        "# Spacy     - \n",
        "# TextBlob  - "
      ],
      "metadata": {
        "id": "cH8v55B_cUN9"
      },
      "execution_count": null,
      "outputs": []
    },
    {
      "cell_type": "code",
      "source": [
        "# ! pip install spacy"
      ],
      "metadata": {
        "id": "Pjz5vbD3eawp"
      },
      "execution_count": null,
      "outputs": []
    },
    {
      "cell_type": "code",
      "source": [
        "! pip show spacy"
      ],
      "metadata": {
        "colab": {
          "base_uri": "https://localhost:8080/"
        },
        "id": "9IaUfDBTdJhX",
        "outputId": "b73c2135-8f41-4739-89e3-960943ff9471"
      },
      "execution_count": null,
      "outputs": [
        {
          "output_type": "stream",
          "name": "stdout",
          "text": [
            "Name: spacy\n",
            "Version: 3.5.1\n",
            "Summary: Industrial-strength Natural Language Processing (NLP) in Python\n",
            "Home-page: https://spacy.io\n",
            "Author: Explosion\n",
            "Author-email: contact@explosion.ai\n",
            "License: MIT\n",
            "Location: /usr/local/lib/python3.9/dist-packages\n",
            "Requires: catalogue, cymem, jinja2, langcodes, murmurhash, numpy, packaging, pathy, preshed, pydantic, requests, setuptools, smart-open, spacy-legacy, spacy-loggers, srsly, thinc, tqdm, typer, wasabi\n",
            "Required-by: en-core-web-sm, fastai\n"
          ]
        }
      ]
    },
    {
      "cell_type": "code",
      "source": [
        "# Pre Trained Lang Models - en_core_web_sm"
      ],
      "metadata": {
        "id": "ZZN6k978eY9B"
      },
      "execution_count": null,
      "outputs": []
    },
    {
      "cell_type": "code",
      "source": [
        "text = \"\"\"\n",
        "One of the most difficult problems in finance right now is figuring out the fundamental economic value of cryptocurrencies. And the past week has complicated this further.\n",
        "For many cryptocurrency investors, the value of Bitcoin is based on the fact it is artificially scarce. A hard cap on “minting” new coins means there will only ever be 21 million Bitcoin in existence. And unlike national currencies such as the Australian dollar, the rate of release for new Bitcoin is slowing down over time.\n",
        "Dogecoin, a cryptocurrency that takes its name and logo from a Shiba Inu meme that was popular several years ago, does not have a cap. Launched in 2013, there are now 100 billion Dogecoin in existence, with as many as five billion new coins minted each year.\n",
        "\"\"\""
      ],
      "metadata": {
        "id": "4ZZs9yKZhGWK"
      },
      "execution_count": null,
      "outputs": []
    },
    {
      "cell_type": "code",
      "source": [
        "print(text)"
      ],
      "metadata": {
        "colab": {
          "base_uri": "https://localhost:8080/"
        },
        "id": "kTkyhNrwhUxb",
        "outputId": "6406ce78-e849-428f-c334-f70f0fe9f8cb"
      },
      "execution_count": null,
      "outputs": [
        {
          "output_type": "stream",
          "name": "stdout",
          "text": [
            "\n",
            "One of the most difficult problems in finance right now is figuring out the fundamental economic value of cryptocurrencies. And the past week has complicated this further.\n",
            "For many cryptocurrency investors, the value of Bitcoin is based on the fact it is artificially scarce. A hard cap on “minting” new coins means there will only ever be 21 million Bitcoin in existence. And unlike national currencies such as the Australian dollar, the rate of release for new Bitcoin is slowing down over time.\n",
            "Dogecoin, a cryptocurrency that takes its name and logo from a Shiba Inu meme that was popular several years ago, does not have a cap. Launched in 2013, there are now 100 billion Dogecoin in existence, with as many as five billion new coins minted each year.\n",
            "\n"
          ]
        }
      ]
    },
    {
      "cell_type": "code",
      "source": [
        "# Import Spacy\n",
        "import spacy"
      ],
      "metadata": {
        "id": "WehEPO4fhaBn"
      },
      "execution_count": null,
      "outputs": []
    },
    {
      "cell_type": "code",
      "source": [
        "# Download English Model \n",
        "spacy.cli.download(\"en_core_web_sm\")"
      ],
      "metadata": {
        "colab": {
          "base_uri": "https://localhost:8080/"
        },
        "id": "rS0ikvrLhgeX",
        "outputId": "dafe1448-3f79-4f19-b202-3864b1e71615"
      },
      "execution_count": null,
      "outputs": [
        {
          "output_type": "stream",
          "name": "stdout",
          "text": [
            "\u001b[38;5;2m✔ Download and installation successful\u001b[0m\n",
            "You can now load the package via spacy.load('en_core_web_sm')\n"
          ]
        }
      ]
    },
    {
      "cell_type": "code",
      "source": [
        "nlp = spacy.load(\"en_core_web_sm\")"
      ],
      "metadata": {
        "id": "WjnkmSlzh2MA"
      },
      "execution_count": null,
      "outputs": []
    },
    {
      "cell_type": "code",
      "source": [
        "nlp"
      ],
      "metadata": {
        "colab": {
          "base_uri": "https://localhost:8080/"
        },
        "id": "z1Grt3UEiDCK",
        "outputId": "9c5bd0dc-ed3f-4ac7-b9fa-c896f459f30a"
      },
      "execution_count": null,
      "outputs": [
        {
          "output_type": "execute_result",
          "data": {
            "text/plain": [
              "<spacy.lang.en.English at 0x7ff395b47550>"
            ]
          },
          "metadata": {},
          "execution_count": 8
        }
      ]
    },
    {
      "cell_type": "code",
      "source": [
        "# Token! "
      ],
      "metadata": {
        "id": "7Zk1_nl3iFhY"
      },
      "execution_count": null,
      "outputs": []
    },
    {
      "cell_type": "code",
      "source": [
        "doc = nlp(text)"
      ],
      "metadata": {
        "id": "VSJoDCGiiPAJ"
      },
      "execution_count": null,
      "outputs": []
    },
    {
      "cell_type": "code",
      "source": [
        "doc"
      ],
      "metadata": {
        "colab": {
          "base_uri": "https://localhost:8080/"
        },
        "id": "3-3ztvHOiX14",
        "outputId": "2b21434c-28ca-452e-c19a-79d77b5df7ae"
      },
      "execution_count": null,
      "outputs": [
        {
          "output_type": "execute_result",
          "data": {
            "text/plain": [
              "\n",
              "One of the most difficult problems in finance right now is figuring out the fundamental economic value of cryptocurrencies. And the past week has complicated this further.\n",
              "For many cryptocurrency investors, the value of Bitcoin is based on the fact it is artificially scarce. A hard cap on “minting” new coins means there will only ever be 21 million Bitcoin in existence. And unlike national currencies such as the Australian dollar, the rate of release for new Bitcoin is slowing down over time.\n",
              "Dogecoin, a cryptocurrency that takes its name and logo from a Shiba Inu meme that was popular several years ago, does not have a cap. Launched in 2013, there are now 100 billion Dogecoin in existence, with as many as five billion new coins minted each year."
            ]
          },
          "metadata": {},
          "execution_count": 13
        }
      ]
    },
    {
      "cell_type": "code",
      "source": [
        "type(doc)"
      ],
      "metadata": {
        "colab": {
          "base_uri": "https://localhost:8080/"
        },
        "id": "v3T3ikN-iYzD",
        "outputId": "9da656ad-5e46-4e65-b545-ee303d798ca3"
      },
      "execution_count": null,
      "outputs": [
        {
          "output_type": "execute_result",
          "data": {
            "text/plain": [
              "spacy.tokens.doc.Doc"
            ]
          },
          "metadata": {},
          "execution_count": 14
        }
      ]
    },
    {
      "cell_type": "code",
      "source": [
        "sentences = []\n",
        "for sent in doc.sents:\n",
        "  print(sent)\n",
        "  sentences.append(sent)\n",
        "  print(\"******************************\")"
      ],
      "metadata": {
        "colab": {
          "base_uri": "https://localhost:8080/"
        },
        "id": "uWIVwZaWigfn",
        "outputId": "7bd6549d-d876-4ea6-aabc-5162249dbbea"
      },
      "execution_count": null,
      "outputs": [
        {
          "output_type": "stream",
          "name": "stdout",
          "text": [
            "\n",
            "One of the most difficult problems in finance right now is figuring out the fundamental economic value of cryptocurrencies.\n",
            "******************************\n",
            "And the past week has complicated this further.\n",
            "\n",
            "******************************\n",
            "For many cryptocurrency investors, the value of Bitcoin is based on the fact it is artificially scarce.\n",
            "******************************\n",
            "A hard cap on “minting” new coins means there will only ever be 21 million Bitcoin in existence.\n",
            "******************************\n",
            "And unlike national currencies such as the Australian dollar, the rate of release for new Bitcoin is slowing down over time.\n",
            "\n",
            "******************************\n",
            "Dogecoin, a cryptocurrency that takes its name and logo from a Shiba Inu meme that was popular several years ago, does not have a cap.\n",
            "******************************\n",
            "Launched in 2013, there are now 100 billion Dogecoin in existence, with as many as five billion new coins minted each year.\n",
            "\n",
            "******************************\n"
          ]
        }
      ]
    },
    {
      "cell_type": "code",
      "source": [
        "sentence1 = sentences[0]"
      ],
      "metadata": {
        "id": "U2dYhAnaimmO"
      },
      "execution_count": null,
      "outputs": []
    },
    {
      "cell_type": "code",
      "source": [
        "sentence1"
      ],
      "metadata": {
        "colab": {
          "base_uri": "https://localhost:8080/"
        },
        "id": "7b1F9ZatjD9v",
        "outputId": "4a8257b6-9530-4a1d-cd51-99c18a20f6c0"
      },
      "execution_count": null,
      "outputs": [
        {
          "output_type": "execute_result",
          "data": {
            "text/plain": [
              "\n",
              "One of the most difficult problems in finance right now is figuring out the fundamental economic value of cryptocurrencies."
            ]
          },
          "metadata": {},
          "execution_count": 22
        }
      ]
    },
    {
      "cell_type": "code",
      "source": [
        "type(sentence1)"
      ],
      "metadata": {
        "colab": {
          "base_uri": "https://localhost:8080/"
        },
        "id": "5HclGKsxjPDf",
        "outputId": "65509d76-ee8d-4caa-eac4-2e3d437672fb"
      },
      "execution_count": null,
      "outputs": [
        {
          "output_type": "execute_result",
          "data": {
            "text/plain": [
              "spacy.tokens.span.Span"
            ]
          },
          "metadata": {},
          "execution_count": 23
        }
      ]
    },
    {
      "cell_type": "code",
      "source": [
        "for index, word in enumerate(sentence1):\n",
        "  print(f\"{index} \\t {word}\")"
      ],
      "metadata": {
        "colab": {
          "base_uri": "https://localhost:8080/"
        },
        "id": "7FAowIKljQtL",
        "outputId": "2dba34a3-e766-469d-f323-ce5e22952d2b"
      },
      "execution_count": null,
      "outputs": [
        {
          "output_type": "stream",
          "name": "stdout",
          "text": [
            "0 \t \n",
            "\n",
            "1 \t One\n",
            "2 \t of\n",
            "3 \t the\n",
            "4 \t most\n",
            "5 \t difficult\n",
            "6 \t problems\n",
            "7 \t in\n",
            "8 \t finance\n",
            "9 \t right\n",
            "10 \t now\n",
            "11 \t is\n",
            "12 \t figuring\n",
            "13 \t out\n",
            "14 \t the\n",
            "15 \t fundamental\n",
            "16 \t economic\n",
            "17 \t value\n",
            "18 \t of\n",
            "19 \t cryptocurrencies\n",
            "20 \t .\n"
          ]
        }
      ]
    },
    {
      "cell_type": "code",
      "source": [
        "sentence1.text"
      ],
      "metadata": {
        "colab": {
          "base_uri": "https://localhost:8080/",
          "height": 35
        },
        "id": "qTtuveTXjZWO",
        "outputId": "338a6037-827a-4356-f598-77bebdb17b14"
      },
      "execution_count": null,
      "outputs": [
        {
          "output_type": "execute_result",
          "data": {
            "text/plain": [
              "'\\nOne of the most difficult problems in finance right now is figuring out the fundamental economic value of cryptocurrencies.'"
            ],
            "application/vnd.google.colaboratory.intrinsic+json": {
              "type": "string"
            }
          },
          "metadata": {},
          "execution_count": 29
        }
      ]
    },
    {
      "cell_type": "code",
      "source": [
        "for word in sentence1:\n",
        "  print(f\"{word.text} \\t {word.is_punct}\")"
      ],
      "metadata": {
        "colab": {
          "base_uri": "https://localhost:8080/"
        },
        "id": "HgS1BEtRkbko",
        "outputId": "1e03752f-383f-4098-c91e-bbb8ab2c90d5"
      },
      "execution_count": null,
      "outputs": [
        {
          "output_type": "stream",
          "name": "stdout",
          "text": [
            "\n",
            " \t False\n",
            "One \t False\n",
            "of \t False\n",
            "the \t False\n",
            "most \t False\n",
            "difficult \t False\n",
            "problems \t False\n",
            "in \t False\n",
            "finance \t False\n",
            "right \t False\n",
            "now \t False\n",
            "is \t False\n",
            "figuring \t False\n",
            "out \t False\n",
            "the \t False\n",
            "fundamental \t False\n",
            "economic \t False\n",
            "value \t False\n",
            "of \t False\n",
            "cryptocurrencies \t False\n",
            ". \t True\n"
          ]
        }
      ]
    },
    {
      "cell_type": "code",
      "source": [
        "text2 = \"The steel cube with volume of 34 cubic c.m is not working. We need a better cub. This is costing us $20 per hour.\"\n",
        "doc2 = nlp(text2)"
      ],
      "metadata": {
        "id": "_zb9UT9DlVbO"
      },
      "execution_count": null,
      "outputs": []
    },
    {
      "cell_type": "code",
      "source": [
        "print(\"WORD \\t\\t\\t PUNCT \\t\\t\\t CURRENCY\")\n",
        "for word in doc2:\n",
        "  print(f\"{word.text} \\t\\t\\t {word.is_punct} \\t\\t\\t {word.is_currency}\")"
      ],
      "metadata": {
        "colab": {
          "base_uri": "https://localhost:8080/"
        },
        "id": "v6qhZo79lljh",
        "outputId": "2e9cf11b-552f-496b-ca8c-6a1c43600f04"
      },
      "execution_count": null,
      "outputs": [
        {
          "output_type": "stream",
          "name": "stdout",
          "text": [
            "WORD \t\t\t PUNCT \t\t\t CURRENCY\n",
            "The \t\t\t False \t\t\t False\n",
            "steel \t\t\t False \t\t\t False\n",
            "cube \t\t\t False \t\t\t False\n",
            "with \t\t\t False \t\t\t False\n",
            "volume \t\t\t False \t\t\t False\n",
            "of \t\t\t False \t\t\t False\n",
            "34 \t\t\t False \t\t\t False\n",
            "cubic \t\t\t False \t\t\t False\n",
            "c.m \t\t\t False \t\t\t False\n",
            "is \t\t\t False \t\t\t False\n",
            "not \t\t\t False \t\t\t False\n",
            "working \t\t\t False \t\t\t False\n",
            ". \t\t\t True \t\t\t False\n",
            "We \t\t\t False \t\t\t False\n",
            "need \t\t\t False \t\t\t False\n",
            "a \t\t\t False \t\t\t False\n",
            "better \t\t\t False \t\t\t False\n",
            "cub \t\t\t False \t\t\t False\n",
            ". \t\t\t True \t\t\t False\n",
            "This \t\t\t False \t\t\t False\n",
            "is \t\t\t False \t\t\t False\n",
            "costing \t\t\t False \t\t\t False\n",
            "us \t\t\t False \t\t\t False\n",
            "$ \t\t\t False \t\t\t True\n",
            "20 \t\t\t False \t\t\t False\n",
            "per \t\t\t False \t\t\t False\n",
            "hour \t\t\t False \t\t\t False\n",
            ". \t\t\t True \t\t\t False\n"
          ]
        }
      ]
    },
    {
      "cell_type": "code",
      "source": [
        "# STOPWORD \n",
        "for word in doc2:\n",
        "  print(f\"{word.text} \\t\\t\\t {word.is_stop}\")"
      ],
      "metadata": {
        "colab": {
          "base_uri": "https://localhost:8080/"
        },
        "id": "z_4ajUEqlyEp",
        "outputId": "880900ed-4fd5-4df9-e1ab-883d6e17e9ca"
      },
      "execution_count": null,
      "outputs": [
        {
          "output_type": "stream",
          "name": "stdout",
          "text": [
            "The \t\t\t True\n",
            "steel \t\t\t False\n",
            "cube \t\t\t False\n",
            "with \t\t\t True\n",
            "volume \t\t\t False\n",
            "of \t\t\t True\n",
            "34 \t\t\t False\n",
            "cubic \t\t\t False\n",
            "c.m \t\t\t False\n",
            "is \t\t\t True\n",
            "not \t\t\t True\n",
            "working \t\t\t False\n",
            ". \t\t\t False\n",
            "We \t\t\t True\n",
            "need \t\t\t False\n",
            "a \t\t\t True\n",
            "better \t\t\t False\n",
            "cub \t\t\t False\n",
            ". \t\t\t False\n",
            "This \t\t\t True\n",
            "is \t\t\t True\n",
            "costing \t\t\t False\n",
            "us \t\t\t True\n",
            "$ \t\t\t False\n",
            "20 \t\t\t False\n",
            "per \t\t\t True\n",
            "hour \t\t\t False\n",
            ". \t\t\t False\n"
          ]
        }
      ]
    },
    {
      "cell_type": "code",
      "source": [
        "doc"
      ],
      "metadata": {
        "colab": {
          "base_uri": "https://localhost:8080/"
        },
        "id": "M-lP-Aqkn7Z1",
        "outputId": "9da6d48b-25c3-4280-afca-68b19ee50b1c"
      },
      "execution_count": null,
      "outputs": [
        {
          "output_type": "execute_result",
          "data": {
            "text/plain": [
              "\n",
              "One of the most difficult problems in finance right now is figuring out the fundamental economic value of cryptocurrencies. And the past week has complicated this further.\n",
              "For many cryptocurrency investors, the value of Bitcoin is based on the fact it is artificially scarce. A hard cap on “minting” new coins means there will only ever be 21 million Bitcoin in existence. And unlike national currencies such as the Australian dollar, the rate of release for new Bitcoin is slowing down over time.\n",
              "Dogecoin, a cryptocurrency that takes its name and logo from a Shiba Inu meme that was popular several years ago, does not have a cap. Launched in 2013, there are now 100 billion Dogecoin in existence, with as many as five billion new coins minted each year."
            ]
          },
          "metadata": {},
          "execution_count": 47
        }
      ]
    },
    {
      "cell_type": "code",
      "source": [
        "# Entities\n",
        "for ent in doc.ents:\n",
        "  print(f\"{ent.text} \\t\\t\\t\\t\\t\\t {ent.label_}\")"
      ],
      "metadata": {
        "colab": {
          "base_uri": "https://localhost:8080/"
        },
        "id": "MBP3-h35uHvb",
        "outputId": "5ed7c2c7-ef2d-4ea2-da5a-d693e4fbba16"
      },
      "execution_count": null,
      "outputs": [
        {
          "output_type": "stream",
          "name": "stdout",
          "text": [
            "One \t\t\t\t\t\t CARDINAL\n",
            "the past week \t\t\t\t\t\t DATE\n",
            "Bitcoin \t\t\t\t\t\t PERSON\n",
            "21 million \t\t\t\t\t\t CARDINAL\n",
            "Australian \t\t\t\t\t\t NORP\n",
            "Bitcoin \t\t\t\t\t\t PERSON\n",
            "Dogecoin \t\t\t\t\t\t ORG\n",
            "Shiba \t\t\t\t\t\t GPE\n",
            "several years ago \t\t\t\t\t\t DATE\n",
            "2013 \t\t\t\t\t\t DATE\n",
            "100 billion Dogecoin \t\t\t\t\t\t MONEY\n",
            "as many as five billion \t\t\t\t\t\t CARDINAL\n",
            "each year \t\t\t\t\t\t DATE\n"
          ]
        }
      ]
    },
    {
      "cell_type": "code",
      "source": [
        "spacy.displacy.render(doc, style='ent', jupyter=True)"
      ],
      "metadata": {
        "colab": {
          "base_uri": "https://localhost:8080/",
          "height": 227
        },
        "id": "pYKoFCkNuSBD",
        "outputId": "96e794c3-b896-4c6f-defc-27b839449068"
      },
      "execution_count": null,
      "outputs": [
        {
          "output_type": "display_data",
          "data": {
            "text/plain": [
              "<IPython.core.display.HTML object>"
            ],
            "text/html": [
              "<span class=\"tex2jax_ignore\"><div class=\"entities\" style=\"line-height: 2.5; direction: ltr\"></br>\n",
              "<mark class=\"entity\" style=\"background: #e4e7d2; padding: 0.45em 0.6em; margin: 0 0.25em; line-height: 1; border-radius: 0.35em;\">\n",
              "    One\n",
              "    <span style=\"font-size: 0.8em; font-weight: bold; line-height: 1; border-radius: 0.35em; vertical-align: middle; margin-left: 0.5rem\">CARDINAL</span>\n",
              "</mark>\n",
              " of the most difficult problems in finance right now is figuring out the fundamental economic value of cryptocurrencies. And \n",
              "<mark class=\"entity\" style=\"background: #bfe1d9; padding: 0.45em 0.6em; margin: 0 0.25em; line-height: 1; border-radius: 0.35em;\">\n",
              "    the past week\n",
              "    <span style=\"font-size: 0.8em; font-weight: bold; line-height: 1; border-radius: 0.35em; vertical-align: middle; margin-left: 0.5rem\">DATE</span>\n",
              "</mark>\n",
              " has complicated this further.</br>For many cryptocurrency investors, the value of \n",
              "<mark class=\"entity\" style=\"background: #aa9cfc; padding: 0.45em 0.6em; margin: 0 0.25em; line-height: 1; border-radius: 0.35em;\">\n",
              "    Bitcoin\n",
              "    <span style=\"font-size: 0.8em; font-weight: bold; line-height: 1; border-radius: 0.35em; vertical-align: middle; margin-left: 0.5rem\">PERSON</span>\n",
              "</mark>\n",
              " is based on the fact it is artificially scarce. A hard cap on “minting” new coins means there will only ever be \n",
              "<mark class=\"entity\" style=\"background: #e4e7d2; padding: 0.45em 0.6em; margin: 0 0.25em; line-height: 1; border-radius: 0.35em;\">\n",
              "    21 million\n",
              "    <span style=\"font-size: 0.8em; font-weight: bold; line-height: 1; border-radius: 0.35em; vertical-align: middle; margin-left: 0.5rem\">CARDINAL</span>\n",
              "</mark>\n",
              " Bitcoin in existence. And unlike national currencies such as the \n",
              "<mark class=\"entity\" style=\"background: #c887fb; padding: 0.45em 0.6em; margin: 0 0.25em; line-height: 1; border-radius: 0.35em;\">\n",
              "    Australian\n",
              "    <span style=\"font-size: 0.8em; font-weight: bold; line-height: 1; border-radius: 0.35em; vertical-align: middle; margin-left: 0.5rem\">NORP</span>\n",
              "</mark>\n",
              " dollar, the rate of release for new \n",
              "<mark class=\"entity\" style=\"background: #aa9cfc; padding: 0.45em 0.6em; margin: 0 0.25em; line-height: 1; border-radius: 0.35em;\">\n",
              "    Bitcoin\n",
              "    <span style=\"font-size: 0.8em; font-weight: bold; line-height: 1; border-radius: 0.35em; vertical-align: middle; margin-left: 0.5rem\">PERSON</span>\n",
              "</mark>\n",
              " is slowing down over time.</br>\n",
              "<mark class=\"entity\" style=\"background: #7aecec; padding: 0.45em 0.6em; margin: 0 0.25em; line-height: 1; border-radius: 0.35em;\">\n",
              "    Dogecoin\n",
              "    <span style=\"font-size: 0.8em; font-weight: bold; line-height: 1; border-radius: 0.35em; vertical-align: middle; margin-left: 0.5rem\">ORG</span>\n",
              "</mark>\n",
              ", a cryptocurrency that takes its name and logo from a \n",
              "<mark class=\"entity\" style=\"background: #feca74; padding: 0.45em 0.6em; margin: 0 0.25em; line-height: 1; border-radius: 0.35em;\">\n",
              "    Shiba\n",
              "    <span style=\"font-size: 0.8em; font-weight: bold; line-height: 1; border-radius: 0.35em; vertical-align: middle; margin-left: 0.5rem\">GPE</span>\n",
              "</mark>\n",
              " Inu meme that was popular \n",
              "<mark class=\"entity\" style=\"background: #bfe1d9; padding: 0.45em 0.6em; margin: 0 0.25em; line-height: 1; border-radius: 0.35em;\">\n",
              "    several years ago\n",
              "    <span style=\"font-size: 0.8em; font-weight: bold; line-height: 1; border-radius: 0.35em; vertical-align: middle; margin-left: 0.5rem\">DATE</span>\n",
              "</mark>\n",
              ", does not have a cap. Launched in \n",
              "<mark class=\"entity\" style=\"background: #bfe1d9; padding: 0.45em 0.6em; margin: 0 0.25em; line-height: 1; border-radius: 0.35em;\">\n",
              "    2013\n",
              "    <span style=\"font-size: 0.8em; font-weight: bold; line-height: 1; border-radius: 0.35em; vertical-align: middle; margin-left: 0.5rem\">DATE</span>\n",
              "</mark>\n",
              ", there are now \n",
              "<mark class=\"entity\" style=\"background: #e4e7d2; padding: 0.45em 0.6em; margin: 0 0.25em; line-height: 1; border-radius: 0.35em;\">\n",
              "    100 billion Dogecoin\n",
              "    <span style=\"font-size: 0.8em; font-weight: bold; line-height: 1; border-radius: 0.35em; vertical-align: middle; margin-left: 0.5rem\">MONEY</span>\n",
              "</mark>\n",
              " in existence, with \n",
              "<mark class=\"entity\" style=\"background: #e4e7d2; padding: 0.45em 0.6em; margin: 0 0.25em; line-height: 1; border-radius: 0.35em;\">\n",
              "    as many as five billion\n",
              "    <span style=\"font-size: 0.8em; font-weight: bold; line-height: 1; border-radius: 0.35em; vertical-align: middle; margin-left: 0.5rem\">CARDINAL</span>\n",
              "</mark>\n",
              " new coins minted \n",
              "<mark class=\"entity\" style=\"background: #bfe1d9; padding: 0.45em 0.6em; margin: 0 0.25em; line-height: 1; border-radius: 0.35em;\">\n",
              "    each year\n",
              "    <span style=\"font-size: 0.8em; font-weight: bold; line-height: 1; border-radius: 0.35em; vertical-align: middle; margin-left: 0.5rem\">DATE</span>\n",
              "</mark>\n",
              ".</br></div></span>"
            ]
          },
          "metadata": {}
        }
      ]
    },
    {
      "cell_type": "code",
      "source": [
        "doc"
      ],
      "metadata": {
        "colab": {
          "base_uri": "https://localhost:8080/"
        },
        "id": "OpQm6G1iu_fh",
        "outputId": "df8b3aee-9d12-4295-9843-484b71a0e57c"
      },
      "execution_count": null,
      "outputs": [
        {
          "output_type": "execute_result",
          "data": {
            "text/plain": [
              "\n",
              "One of the most difficult problems in finance right now is figuring out the fundamental economic value of cryptocurrencies. And the past week has complicated this further.\n",
              "For many cryptocurrency investors, the value of Bitcoin is based on the fact it is artificially scarce. A hard cap on “minting” new coins means there will only ever be 21 million Bitcoin in existence. And unlike national currencies such as the Australian dollar, the rate of release for new Bitcoin is slowing down over time.\n",
              "Dogecoin, a cryptocurrency that takes its name and logo from a Shiba Inu meme that was popular several years ago, does not have a cap. Launched in 2013, there are now 100 billion Dogecoin in existence, with as many as five billion new coins minted each year."
            ]
          },
          "metadata": {},
          "execution_count": 51
        }
      ]
    },
    {
      "cell_type": "code",
      "source": [
        "stop_words = []\n",
        "non_stop_words = []\n",
        "\n",
        "for word in doc:\n",
        "  if word.is_stop:\n",
        "    stop_words.append(word)\n",
        "  else:\n",
        "    non_stop_words.append(word)"
      ],
      "metadata": {
        "id": "rVVWbX5bwAG_"
      },
      "execution_count": null,
      "outputs": []
    },
    {
      "cell_type": "code",
      "source": [
        "len(stop_words)"
      ],
      "metadata": {
        "colab": {
          "base_uri": "https://localhost:8080/"
        },
        "id": "2tbMZU1Dwcdc",
        "outputId": "b89733a0-3a09-4375-dc9f-cc9b7858ac37"
      },
      "execution_count": null,
      "outputs": [
        {
          "output_type": "execute_result",
          "data": {
            "text/plain": [
              "67"
            ]
          },
          "metadata": {},
          "execution_count": 57
        }
      ]
    },
    {
      "cell_type": "code",
      "source": [
        "stop_words"
      ],
      "metadata": {
        "colab": {
          "base_uri": "https://localhost:8080/"
        },
        "id": "Y32Py69EwwP5",
        "outputId": "e674f931-262a-4d4c-8ce6-e883bc70c742"
      },
      "execution_count": null,
      "outputs": [
        {
          "output_type": "execute_result",
          "data": {
            "text/plain": [
              "[One,\n",
              " of,\n",
              " the,\n",
              " most,\n",
              " in,\n",
              " now,\n",
              " is,\n",
              " out,\n",
              " the,\n",
              " of,\n",
              " And,\n",
              " the,\n",
              " has,\n",
              " this,\n",
              " further,\n",
              " For,\n",
              " many,\n",
              " the,\n",
              " of,\n",
              " is,\n",
              " on,\n",
              " the,\n",
              " it,\n",
              " is,\n",
              " A,\n",
              " on,\n",
              " there,\n",
              " will,\n",
              " only,\n",
              " ever,\n",
              " be,\n",
              " in,\n",
              " And,\n",
              " such,\n",
              " as,\n",
              " the,\n",
              " the,\n",
              " of,\n",
              " for,\n",
              " is,\n",
              " down,\n",
              " over,\n",
              " a,\n",
              " that,\n",
              " its,\n",
              " name,\n",
              " and,\n",
              " from,\n",
              " a,\n",
              " that,\n",
              " was,\n",
              " several,\n",
              " does,\n",
              " not,\n",
              " have,\n",
              " a,\n",
              " in,\n",
              " there,\n",
              " are,\n",
              " now,\n",
              " in,\n",
              " with,\n",
              " as,\n",
              " many,\n",
              " as,\n",
              " five,\n",
              " each]"
            ]
          },
          "metadata": {},
          "execution_count": 59
        }
      ]
    },
    {
      "cell_type": "code",
      "source": [
        "non_stop_words"
      ],
      "metadata": {
        "colab": {
          "base_uri": "https://localhost:8080/"
        },
        "id": "Af2USEzPwxVP",
        "outputId": "1acd45f8-0f96-4dcd-d1b9-5d23b79816a0"
      },
      "execution_count": null,
      "outputs": [
        {
          "output_type": "execute_result",
          "data": {
            "text/plain": [
              "[,\n",
              " difficult,\n",
              " problems,\n",
              " finance,\n",
              " right,\n",
              " figuring,\n",
              " fundamental,\n",
              " economic,\n",
              " value,\n",
              " cryptocurrencies,\n",
              " .,\n",
              " past,\n",
              " week,\n",
              " complicated,\n",
              " .,\n",
              " ,\n",
              " cryptocurrency,\n",
              " investors,\n",
              " ,,\n",
              " value,\n",
              " Bitcoin,\n",
              " based,\n",
              " fact,\n",
              " artificially,\n",
              " scarce,\n",
              " .,\n",
              " hard,\n",
              " cap,\n",
              " “,\n",
              " minting,\n",
              " ”,\n",
              " new,\n",
              " coins,\n",
              " means,\n",
              " 21,\n",
              " million,\n",
              " Bitcoin,\n",
              " existence,\n",
              " .,\n",
              " unlike,\n",
              " national,\n",
              " currencies,\n",
              " Australian,\n",
              " dollar,\n",
              " ,,\n",
              " rate,\n",
              " release,\n",
              " new,\n",
              " Bitcoin,\n",
              " slowing,\n",
              " time,\n",
              " .,\n",
              " ,\n",
              " Dogecoin,\n",
              " ,,\n",
              " cryptocurrency,\n",
              " takes,\n",
              " logo,\n",
              " Shiba,\n",
              " Inu,\n",
              " meme,\n",
              " popular,\n",
              " years,\n",
              " ago,\n",
              " ,,\n",
              " cap,\n",
              " .,\n",
              " Launched,\n",
              " 2013,\n",
              " ,,\n",
              " 100,\n",
              " billion,\n",
              " Dogecoin,\n",
              " existence,\n",
              " ,,\n",
              " billion,\n",
              " new,\n",
              " coins,\n",
              " minted,\n",
              " year,\n",
              " .,\n",
              " ]"
            ]
          },
          "metadata": {},
          "execution_count": 60
        }
      ]
    },
    {
      "cell_type": "code",
      "source": [
        "# lets remove puct also\n",
        "non_punct_non_stop_word = []\n",
        "for word in doc:\n",
        "  if word.is_stop == False:\n",
        "    if word.is_punct == False:\n",
        "      if word.text != \"\\n\":\n",
        "        non_punct_non_stop_word.append(word.text)\n"
      ],
      "metadata": {
        "id": "PNCdkyCsw3Ew"
      },
      "execution_count": null,
      "outputs": []
    },
    {
      "cell_type": "code",
      "source": [
        "print(non_punct_non_stop_word)"
      ],
      "metadata": {
        "colab": {
          "base_uri": "https://localhost:8080/"
        },
        "id": "EchFRRkixPco",
        "outputId": "8484260f-9cec-4bf7-f046-3bba3c21461a"
      },
      "execution_count": null,
      "outputs": [
        {
          "output_type": "stream",
          "name": "stdout",
          "text": [
            "['difficult', 'problems', 'finance', 'right', 'figuring', 'fundamental', 'economic', 'value', 'cryptocurrencies', 'past', 'week', 'complicated', 'cryptocurrency', 'investors', 'value', 'Bitcoin', 'based', 'fact', 'artificially', 'scarce', 'hard', 'cap', 'minting', 'new', 'coins', 'means', '21', 'million', 'Bitcoin', 'existence', 'unlike', 'national', 'currencies', 'Australian', 'dollar', 'rate', 'release', 'new', 'Bitcoin', 'slowing', 'time', 'Dogecoin', 'cryptocurrency', 'takes', 'logo', 'Shiba', 'Inu', 'meme', 'popular', 'years', 'ago', 'cap', 'Launched', '2013', '100', 'billion', 'Dogecoin', 'existence', 'billion', 'new', 'coins', 'minted', 'year']\n"
          ]
        }
      ]
    },
    {
      "cell_type": "code",
      "source": [
        "non_punct_non_stop_word = [i.lower() for i in non_punct_non_stop_word]"
      ],
      "metadata": {
        "id": "rdffvkXxx0i2"
      },
      "execution_count": null,
      "outputs": []
    },
    {
      "cell_type": "code",
      "source": [
        "# non_punct_non_stop_word"
      ],
      "metadata": {
        "id": "GKakCTQdyAuk"
      },
      "execution_count": null,
      "outputs": []
    },
    {
      "cell_type": "code",
      "source": [
        "from collections import Counter"
      ],
      "metadata": {
        "id": "EkWaNZd_xP1J"
      },
      "execution_count": null,
      "outputs": []
    },
    {
      "cell_type": "code",
      "source": [
        "c = Counter(non_punct_non_stop_word)"
      ],
      "metadata": {
        "id": "tOGSi6qlxj7_"
      },
      "execution_count": null,
      "outputs": []
    },
    {
      "cell_type": "code",
      "source": [
        "c.most_common(10)"
      ],
      "metadata": {
        "colab": {
          "base_uri": "https://localhost:8080/"
        },
        "id": "WtKNleZbxqWz",
        "outputId": "b122bda1-fe8d-41e7-d157-70da8adde4ed"
      },
      "execution_count": null,
      "outputs": [
        {
          "output_type": "execute_result",
          "data": {
            "text/plain": [
              "[('bitcoin', 3),\n",
              " ('new', 3),\n",
              " ('value', 2),\n",
              " ('cryptocurrency', 2),\n",
              " ('cap', 2),\n",
              " ('coins', 2),\n",
              " ('existence', 2),\n",
              " ('dogecoin', 2),\n",
              " ('billion', 2),\n",
              " ('difficult', 1)]"
            ]
          },
          "metadata": {},
          "execution_count": 89
        }
      ]
    },
    {
      "cell_type": "code",
      "source": [],
      "metadata": {
        "id": "9sCxchcqxsOl"
      },
      "execution_count": null,
      "outputs": []
    }
  ]
}