{
  "nbformat": 4,
  "nbformat_minor": 0,
  "metadata": {
    "colab": {
      "provenance": [],
      "include_colab_link": true
    },
    "kernelspec": {
      "name": "python3",
      "display_name": "Python 3"
    },
    "language_info": {
      "name": "python"
    }
  },
  "cells": [
    {
      "cell_type": "markdown",
      "metadata": {
        "id": "view-in-github",
        "colab_type": "text"
      },
      "source": [
        "<a href=\"https://colab.research.google.com/github/Sachinsatya/data_insights-/blob/main/Life_Cycle_of_any_DL_Project!.ipynb\" target=\"_parent\"><img src=\"https://colab.research.google.com/assets/colab-badge.svg\" alt=\"Open In Colab\"/></a>"
      ]
    },
    {
      "cell_type": "code",
      "execution_count": null,
      "metadata": {
        "id": "twW6uTW68_FK"
      },
      "outputs": [],
      "source": [
        "# Life Cycle of any DL Project! \n",
        "\n",
        "# 0. Problem Solving \n",
        "# a) North Star Metrics (define success)\n",
        "# b) Build a rough sketch for the problem\n",
        "\n",
        "# 1. Data Collection \n",
        "# a) Frame the requirement\n",
        "# b) Define quantity & quality\n",
        "\n",
        "# 2. EDA\n",
        "# a) Data Cleaning \n",
        "# b) Data QC \n",
        "# c) Feature Engg\n",
        "\n",
        "# 3. Data Selection\n",
        "# a) Split (Train Vs Test Vs Val)\n",
        "# b) Random/ Stratified \n",
        "# c) Image Generators (is not generating data, rather divides big data into smaller batches, \n",
        "#    so that they are compatible with RAM)\n",
        "\n",
        "# 4. Pre - Processing \n",
        "# a) Resize \n",
        "# b) Balancing Images \n",
        "# c) Changing Channel  \n",
        "# d) Rotating / Flipping / Zooming... \n",
        "# e) Image Augmentation\n",
        "\n",
        "# 5. Train the model\n",
        "# a) Baseline model\n",
        "# b) Now build on top (hyper parameter)\n",
        "# c) Record your metrics \n",
        "# d) Save the model\n",
        "\n",
        "# 6. Validation \n",
        " \n",
        "# 7. Testing\n",
        "\n",
        "# 8. Inferencing \n",
        "# a) Build a system that will help the other application to use model\n",
        "\"\"\"\n",
        "def predict(image_path)\n",
        "  read the image\n",
        "  pre process the image\n",
        "  model.predict\n",
        "  return results\n",
        "\"\"\"\n",
        "# b) can be a simple function with image pre-processing & can be a large distributed scalable system "
      ]
    },
    {
      "cell_type": "code",
      "source": [
        "# Three Primary Colors Red Green Blue\n",
        "# 256 intensity\n",
        "\n",
        "256 * 256 * 256 # ~16.7M"
      ],
      "metadata": {
        "colab": {
          "base_uri": "https://localhost:8080/"
        },
        "id": "-KFuLMIhEHrH",
        "outputId": "12e5605a-8913-4c5c-f09c-24fdd4395a6d"
      },
      "execution_count": null,
      "outputs": [
        {
          "output_type": "execute_result",
          "data": {
            "text/plain": [
              "16777216"
            ]
          },
          "metadata": {},
          "execution_count": 5
        }
      ]
    },
    {
      "cell_type": "code",
      "source": [
        "# Motivation for neural network.. "
      ],
      "metadata": {
        "id": "5kg24j6GRIdC"
      },
      "execution_count": null,
      "outputs": []
    },
    {
      "cell_type": "markdown",
      "source": [
        "<img src=\"https://www.nichd.nih.gov/sites/default/files/2018-10/nervous-system.jpg\"/>"
      ],
      "metadata": {
        "id": "7SDVqgSURG_l"
      }
    },
    {
      "cell_type": "code",
      "source": [],
      "metadata": {
        "id": "TiyRNGHmGMFa"
      },
      "execution_count": null,
      "outputs": []
    },
    {
      "cell_type": "code",
      "source": [],
      "metadata": {
        "id": "9iVO7Gi8STIU"
      },
      "execution_count": null,
      "outputs": []
    }
  ]
}